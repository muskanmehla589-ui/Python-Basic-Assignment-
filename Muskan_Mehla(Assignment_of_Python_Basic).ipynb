{
  "nbformat": 4,
  "nbformat_minor": 0,
  "metadata": {
    "colab": {
      "provenance": []
    },
    "kernelspec": {
      "name": "python3",
      "display_name": "Python 3"
    },
    "language_info": {
      "name": "python"
    }
  },
  "cells": [
    {
      "cell_type": "markdown",
      "source": [
        "**Q 1. What is python, and why is it popular?**\n",
        "\n",
        "ans. Python is a high-level, interpreted programming language known for its simplicity, readability, and versatility. It was created by Guido van Rossum and first released in 1991. Python is widely used in various domains like web development, data science, machine learning, automation, scientific computing, and more.\n",
        "\n",
        "**why is it popular**:\n",
        "\n",
        "*   **Easy to Learn**: Python’s syntax is clean and intuitive, making it accessible for beginners while still powerful enough for experts.\n",
        "*   **Versatile**:Used for web apps, data analysis, AI, and more.\n",
        "*   **Rich Ecosystem**: Python has a vast collection of libraries and frameworks (e.g., NumPy, Pandas, TensorFlow, Django, Flask) that simplify complex tasks.\n",
        "*   **Cross-Platform**: Python runs on Windows, macOS, Linux, and even embedded systems like Raspberry Pi.\n",
        "*   **Large Community**: With millions of developers worldwide, Python has a strong community that contributes to its growth, shares knowledge, and provides support.\n",
        "*   **Automation**: Python is widely used for automating repetitive tasks, making it a favorite among developers.\n",
        "*   **Data and AI**: Libraries like Pandas and Matplotlib make Python a go-to language for data analysis, visualization, and machine learning.\n",
        "\n",
        "\n"
      ],
      "metadata": {
        "id": "QXRePCkWMUjd"
      }
    },
    {
      "cell_type": "markdown",
      "source": [
        "**Q 2. What is an interpreter in python?**\n",
        "\n",
        "In Python, an interpreter is a program that reads and executes Python code line by line. It translates the code into machine code that the computer's processor can understand and execute.\n"
      ],
      "metadata": {
        "id": "NmBt5AXhNTJe"
      }
    },
    {
      "cell_type": "markdown",
      "source": [
        "**Q 3. What are predefined keywords in python?**\n",
        "\n",
        "In Python, keywords are reserved words that have special meanings and cannot be used as variable names, function names, or identifiers. Here are some examples of predefined keywords in Python: def, class, and while etc."
      ],
      "metadata": {
        "id": "4LBBHEesNhNg"
      }
    },
    {
      "cell_type": "markdown",
      "source": [
        "**Q 4. Can keywords be used as variable names?**\n",
        "\n",
        "No, keywords cannot be used as variable names in Python.\n",
        "\n",
        "Using a keyword as a variable name will result in a SyntaxError. Python's interpreter will not be able to distinguish between the keyword's intended purpose and its use as a variable name.\n"
      ],
      "metadata": {
        "id": "8ps6r2uqNrMB"
      }
    },
    {
      "cell_type": "markdown",
      "source": [
        "**Q 5. What is mutability in Python?**\n",
        "\n",
        "In Python, mutability refers to the ability of an object to be modified after it's created.\n",
        "\n",
        "**objects:**\n",
        "\n",
        "1. Can be changed after creation\n",
        "2. Have methods that modify their contents\n",
        "\n",
        "Example:  Lists ([])\n",
        "\n"
      ],
      "metadata": {
        "id": "1L7u12KjNzL7"
      }
    },
    {
      "cell_type": "markdown",
      "source": [
        "**Q 6. Why are lists mutable, but tuples are immutable?**\n",
        "\n",
        "- Lists are mutable because they are designed to be dynamic, allowing elements to be added, removed, or modified after creation. This is useful when you need to store a collection of items that may change\n",
        "\n",
        "- Tuples are immutable because they are designed to be static, ensuring that their contents remain unchanged after creation. This provides several benefits:\n",
        "\n",
        "1. Memory efficiency: Tuples require less memory than lists.\n",
        "2. Thread safety: Immutable tuples can be safely shared between threads.\n",
        "3. Code integrity: Tuples ensure that data remains consistent and predictable\n"
      ],
      "metadata": {
        "id": "6gJ1azKdOJmf"
      }
    },
    {
      "cell_type": "markdown",
      "source": [
        "**Q 7. What is the difference between “==” and \"is” operators in Python?**\n",
        "\n",
        "1. == (Equality Operator):\n",
        "    - Checks if the values of two objects are equal.\n",
        "    - Compare the contents of the objects.\n",
        "    - Use == to check for value equality.\n",
        "\n",
        "2. is (Identity Operator):\n",
        "    - Checks if both variables refer to the same object in memory.\n",
        "    - Compares the memory addresses of the objects.\n",
        "    - Use is to check for object identity.\n"
      ],
      "metadata": {
        "id": "PYimqMIYOeiV"
      }
    },
    {
      "cell_type": "markdown",
      "source": [
        "**Q 8. What are logical operators in Python?**\n",
        "\n",
        "Python has three logical operators:\n",
        "\n",
        "1. and (Logical AND):\n",
        "    - Returns True if both conditions are true.\n",
        "    - Example: x > 5 and x < 10\n",
        "2. or (Logical OR):\n",
        "    - Returns True if at least one condition is true.\n",
        "    - Example: x > 5 or x < 0\n",
        "3. not (Logical NOT):\n",
        "    - Returns the opposite of the condition.\n",
        "    - Example: not x > 5\n",
        "\n",
        "These operators are used to combine conditional statements and make decisions in your code.\n",
        "\n",
        "Example:\n",
        "x = 7\n",
        "- print(x > 5 and x < 10)  # True\n",
        "- print(x > 10 or x < 5)  # False\n",
        "- print(not x > 5)  # False\n"
      ],
      "metadata": {
        "id": "nYqNZo-6Ou7x"
      }
    },
    {
      "cell_type": "markdown",
      "source": [
        "**Q 9. What is type casting in Python?**\n",
        "\n",
        "Type casting is the process of converting one data type into another. In Python, you can use type casting to convert between built-in data types, such as:\n",
        "\n",
        "1. Integers (int)\n",
        "2. Floats (float)\n",
        "3. Strings (str)\n",
        "\n",
        "Types of Type Casting:\n",
        "\n",
        "1. Implicit Type Casting: Python automatically converts one data type to another when necessary.\n",
        "2. Explicit Type Casting: You manually convert one data type to another using functions like int(), float(), and str().\n"
      ],
      "metadata": {
        "id": "QUZiwPAMPFyk"
      }
    },
    {
      "cell_type": "markdown",
      "source": [
        "**Q 10. What is the difference between implicit and explicit type casting?**\n",
        "\n",
        "1. Implicit Type Casting:\n",
        "    - Python automatically converts one data type to another.\n",
        "    - Happens when Python expects a certain data type.\n",
        "    - Example: x = 5; y = 2.0; result = x + y (Python converts x to a float)\n",
        "2. Explicit Type Casting:\n",
        "    - You manually convert one data type to another using functions.\n",
        "    - Uses functions like int(), float(), str(), etc.\n",
        "    - Example: x = \"123\"; y = int(x) (You explicitly convert x to an integer)\n",
        "\n",
        "**Key differences:**\n",
        "\n",
        "1. Automatic vs Manual: Implicit is automatic, while explicit is manual.\n",
        "2. Control: Explicit type casting gives you more control over data type conversions.\n",
        "\n",
        "**When to use each:**\n",
        "\n",
        "1. Implicit: When Python's automatic conversion works as expected.\n",
        "2. Explicit: When you need precise control over data type conversions or want to ensure a specific data type.\n"
      ],
      "metadata": {
        "id": "ZQnvmwQSPQXD"
      }
    },
    {
      "cell_type": "markdown",
      "source": [
        "**Q 11. What is the purpose of conditional statements in Python ?**\n",
        "\n",
        "Conditional statements allow your code to make decisions based on specific conditions. They enable your program to:\n",
        "\n",
        "1. Execute different blocks of code: Depending on whether a condition is true or false.\n",
        "2. Handle various scenarios: By checking conditions and responding accordingly.\n",
        "3. Improve code logic: By adding decision-making capabilities to your program.\n",
        "\n",
        "**Types of Conditional Statements:**\n",
        "\n",
        "1. if statements: Check a condition and execute code if true.\n",
        "2. elif statements: Check additional conditions if the initial condition is false.\n",
        "3. else statements: Execute code when all conditions are false.\n",
        "\n",
        "**Benefits:**\n",
        "\n",
        "1. Dynamic decision-making: Your code can adapt to different situations.\n",
        "2. Increased flexibility: Conditional statements allow your code to handle various inputs and scenarios.\n"
      ],
      "metadata": {
        "id": "1zHRzl9XPb4X"
      }
    },
    {
      "cell_type": "markdown",
      "source": [
        "**Q 12. How does the elif statement work?**\n",
        "\n",
        "The elif statement is used to check additional conditions if the initial if condition is false. It allows you to:\n",
        "\n",
        "1. Check multiple conditions: Evaluate different conditions in sequence.\n",
        "2. Execute specific code: Run code associated with the first true condition.\n",
        "\n",
        "**Syntax**:\n",
        "\n",
        "if condition1:\n",
        "    # code to execute if condition1 is true\n",
        "elif condition2:\n",
        "    # code to execute if condition1 is false and condition2 is true\n",
        "elif condition3:\n",
        "    # code to execute if condition1 and condition2 are false and condition3 is true\n",
        "else:\n",
        "    # code to execute if all conditions are false\n",
        "\n",
        "**How it works:**\n",
        "\n",
        "1. The if condition is evaluated first.\n",
        "2. If the if condition is false, the elif conditions are evaluated in sequence.\n",
        "3. The code associated with the first true elif condition is executed.\n",
        "4. If all conditions are false, the else block is executed (if present).\n"
      ],
      "metadata": {
        "id": "wy1N399tPlxi"
      }
    },
    {
      "cell_type": "markdown",
      "source": [
        "**Q 13. What is the difference between for and while loop?**\n",
        "\n",
        "for Loop vs while Loop:\n",
        "\n",
        "1. for Loop: Used to iterate over a sequence (like a list or string).\n",
        "2. while Loop: Used to execute code while a condition is true.\n",
        "\n",
        "When to use each:\n",
        "\n",
        "1. for loop: When you know how many times you want to loop (e.g., iterating over a list).\n",
        "2. while loop: When you don't know how many times you want to loop (e.g., looping until a condition is met).\n",
        "\n"
      ],
      "metadata": {
        "id": "AonU-VzEQPVB"
      }
    },
    {
      "cell_type": "markdown",
      "source": [
        "**Q 14. Describe a scenario where a while loop is more suitable than a for loop?**\n",
        "\n",
        "A while loop is more suitable than a for loop when:\n",
        "\n",
        "1. You need to repeatedly ask for user input until a valid response is provided.\n",
        "2. The number of iterations is unknown.\n",
        "\n"
      ],
      "metadata": {
        "id": "VJr5rCmOQTdX"
      }
    },
    {
      "cell_type": "code",
      "source": [
        "while True:\n",
        "    user_input = input(\"Enter a number between 1 and 10: \")\n",
        "    if user_input.isdigit() and 1 <= int(user_input) <= 10:\n",
        "        print(\"Valid input!\")\n",
        "        break\n",
        "    else:\n",
        "        print(\"Invalid input. Try again!\")"
      ],
      "metadata": {
        "colab": {
          "base_uri": "https://localhost:8080/"
        },
        "id": "EfRrYnOIQnGr",
        "outputId": "06ec890d-e242-4a3e-ff6d-1dee50f0fcb9"
      },
      "execution_count": null,
      "outputs": [
        {
          "output_type": "stream",
          "name": "stdout",
          "text": [
            "Enter a number between 1 and 10: 11\n",
            "Invalid input. Try again!\n",
            "Enter a number between 1 and 10: 10\n",
            "Valid input!\n"
          ]
        }
      ]
    },
    {
      "cell_type": "markdown",
      "source": [
        "In this scenario, a while loop is ideal because:\n",
        "\n",
        "1. You don't know how many times the user will enter invalid input.\n",
        "2. You want to continue asking for input until a valid response is provided.\n",
        "\n",
        "A for loop wouldn't be suitable here, as you'd need to specify a fixed number of iterations. The while loop's conditional nature makes it perfect for this type of scenario.\n"
      ],
      "metadata": {
        "id": "WeZer-M1QrlN"
      }
    },
    {
      "cell_type": "markdown",
      "source": [
        "##Practical Questions"
      ],
      "metadata": {
        "id": "DtFZ2USYQw0r"
      }
    },
    {
      "cell_type": "markdown",
      "source": [
        "**Q1. Write a Python program to print \"Hello, World!**"
      ],
      "metadata": {
        "id": "jdVNWtKaQ7R7"
      }
    },
    {
      "cell_type": "code",
      "source": [
        "print (\"Hellow, world!\")"
      ],
      "metadata": {
        "colab": {
          "base_uri": "https://localhost:8080/"
        },
        "id": "oPLm-MidRF4T",
        "outputId": "4373d1cc-d348-41b4-b53d-67a01c52e15b"
      },
      "execution_count": null,
      "outputs": [
        {
          "output_type": "stream",
          "name": "stdout",
          "text": [
            "Hellow, world!\n"
          ]
        }
      ]
    },
    {
      "cell_type": "markdown",
      "source": [
        "**Q2. Write a Python program that displays your name and age**\n"
      ],
      "metadata": {
        "id": "GBQTD0MnROlx"
      }
    },
    {
      "cell_type": "code",
      "source": [],
      "metadata": {
        "id": "aZ9eOx5wRWFj"
      },
      "execution_count": null,
      "outputs": []
    },
    {
      "cell_type": "code",
      "metadata": {
        "colab": {
          "base_uri": "https://localhost:8080/"
        },
        "id": "364a1514",
        "outputId": "58283b4e-48c2-49a8-f706-71ede2137957"
      },
      "source": [
        "name = \"Muskan\"\n",
        "age = 21\n",
        "\n",
        "print(\"My name is\", name)\n",
        "print(\"I am\", age, \"years old\")"
      ],
      "execution_count": null,
      "outputs": [
        {
          "output_type": "stream",
          "name": "stdout",
          "text": [
            "My name is Muskan\n",
            "I am 21 years old\n"
          ]
        }
      ]
    },
    {
      "cell_type": "code",
      "source": [
        "input_name = input(\" enter your name\")\n",
        "input_age = input(\" enter your age\")"
      ],
      "metadata": {
        "colab": {
          "base_uri": "https://localhost:8080/"
        },
        "id": "O4Ee04aDRpWY",
        "outputId": "1bf59caa-1596-4a04-aa91-882bff5a96db"
      },
      "execution_count": null,
      "outputs": [
        {
          "name": "stdout",
          "output_type": "stream",
          "text": [
            " enter your name Muskan\n",
            " enter your age 21\n"
          ]
        }
      ]
    },
    {
      "cell_type": "markdown",
      "source": [
        "**Q3. Write code to print all the pre-defined keywords in Python using the keyword library**"
      ],
      "metadata": {
        "id": "S_O0q_WnS7dj"
      }
    },
    {
      "cell_type": "code",
      "source": [
        "import keyword\n",
        "\n",
        "print(keyword.kwlist)\n"
      ],
      "metadata": {
        "colab": {
          "base_uri": "https://localhost:8080/"
        },
        "id": "DDXM4dRHTBvP",
        "outputId": "919e3ee6-da68-40af-8945-21a50de79086"
      },
      "execution_count": null,
      "outputs": [
        {
          "output_type": "stream",
          "name": "stdout",
          "text": [
            "['False', 'None', 'True', 'and', 'as', 'assert', 'async', 'await', 'break', 'class', 'continue', 'def', 'del', 'elif', 'else', 'except', 'finally', 'for', 'from', 'global', 'if', 'import', 'in', 'is', 'lambda', 'nonlocal', 'not', 'or', 'pass', 'raise', 'return', 'try', 'while', 'with', 'yield']\n"
          ]
        }
      ]
    },
    {
      "cell_type": "markdown",
      "source": [
        "**Q4. Write a program that checks if a given word is a Python keyword**"
      ],
      "metadata": {
        "id": "HIaGrLqyTYgJ"
      }
    },
    {
      "cell_type": "code",
      "source": [
        "import keyword\n",
        "\n",
        "word = input(\"Enter a word to check: \")\n",
        "\n",
        "if word in keyword.kwlist:\n",
        "    print(f\"'{word}' is a Python keyword.\")\n",
        "else:\n",
        "    print(f\"'{word}' is not a Python keyword.\")"
      ],
      "metadata": {
        "colab": {
          "base_uri": "https://localhost:8080/"
        },
        "id": "UzSFOfI1Tdi1",
        "outputId": "cf177b78-2518-43d0-99f9-15ee0db53614"
      },
      "execution_count": null,
      "outputs": [
        {
          "output_type": "stream",
          "name": "stdout",
          "text": [
            "Enter a word to check: happy\n",
            "'happy' is not a Python keyword.\n"
          ]
        }
      ]
    },
    {
      "cell_type": "markdown",
      "source": [
        "**Q5. Create a list and tuple in Python, and demonstrate how attempting to change an element works differently\n",
        "for each**"
      ],
      "metadata": {
        "id": "LUrkHtxYT4qz"
      }
    },
    {
      "cell_type": "markdown",
      "source": [
        "**List**"
      ],
      "metadata": {
        "id": "WAuBblxfVhW5"
      }
    },
    {
      "cell_type": "code",
      "source": [
        "list_cont = [1,7+5,3,\"ajay\",6,7]\n",
        "list_cont"
      ],
      "metadata": {
        "colab": {
          "base_uri": "https://localhost:8080/"
        },
        "id": "VzcSFL09UE85",
        "outputId": "9054e8b5-5fa4-49c6-9712-00ea0be7007a"
      },
      "execution_count": null,
      "outputs": [
        {
          "output_type": "execute_result",
          "data": {
            "text/plain": [
              "[1, 12, 3, 'ajay', 6, 7]"
            ]
          },
          "metadata": {},
          "execution_count": 21
        }
      ]
    },
    {
      "cell_type": "code",
      "source": [
        "list_cont[3]"
      ],
      "metadata": {
        "colab": {
          "base_uri": "https://localhost:8080/",
          "height": 35
        },
        "id": "yXm6mV-gVMDS",
        "outputId": "dbfe9333-fb9e-4444-fe1f-c5c018cbf5d5"
      },
      "execution_count": null,
      "outputs": [
        {
          "output_type": "execute_result",
          "data": {
            "text/plain": [
              "'ajay'"
            ],
            "application/vnd.google.colaboratory.intrinsic+json": {
              "type": "string"
            }
          },
          "metadata": {},
          "execution_count": 22
        }
      ]
    },
    {
      "cell_type": "code",
      "source": [
        "list_cont[3] = \"gaurav\"\n",
        "list_cont"
      ],
      "metadata": {
        "colab": {
          "base_uri": "https://localhost:8080/"
        },
        "id": "BYA1jnrQVVZk",
        "outputId": "b18d5aa4-9a36-41e3-e678-a32a4ea45618"
      },
      "execution_count": null,
      "outputs": [
        {
          "output_type": "execute_result",
          "data": {
            "text/plain": [
              "[1, 12, 3, 'gaurav', 6, 7]"
            ]
          },
          "metadata": {},
          "execution_count": 23
        }
      ]
    },
    {
      "cell_type": "markdown",
      "source": [
        "**Tuple**"
      ],
      "metadata": {
        "id": "RevJTjeYV1vV"
      }
    },
    {
      "cell_type": "code",
      "metadata": {
        "colab": {
          "base_uri": "https://localhost:8080/"
        },
        "id": "80e1e2c0",
        "outputId": "ec31b791-0afe-4e98-b4e9-b89d1a3d3325"
      },
      "source": [
        "tuple_cont = (1, 7 + 5, 3, \"ajay\", 6, 7)\n",
        "print(tuple_cont)"
      ],
      "execution_count": null,
      "outputs": [
        {
          "output_type": "stream",
          "name": "stdout",
          "text": [
            "(1, 12, 3, 'ajay', 6, 7)\n"
          ]
        }
      ]
    },
    {
      "cell_type": "code",
      "source": [
        "tuple_cont[3] = \"mohit\"\n",
        "tuple_cont"
      ],
      "metadata": {
        "colab": {
          "base_uri": "https://localhost:8080/",
          "height": 158
        },
        "id": "Q0ULtvl3V0GA",
        "outputId": "32b738ff-ba43-4b25-90f9-0abaee413898"
      },
      "execution_count": null,
      "outputs": [
        {
          "output_type": "error",
          "ename": "TypeError",
          "evalue": "'tuple' object does not support item assignment",
          "traceback": [
            "\u001b[0;31m---------------------------------------------------------------------------\u001b[0m",
            "\u001b[0;31mTypeError\u001b[0m                                 Traceback (most recent call last)",
            "\u001b[0;32m/tmp/ipython-input-933300936.py\u001b[0m in \u001b[0;36m<cell line: 0>\u001b[0;34m()\u001b[0m\n\u001b[0;32m----> 1\u001b[0;31m \u001b[0mtuple_cont\u001b[0m\u001b[0;34m[\u001b[0m\u001b[0;36m3\u001b[0m\u001b[0;34m]\u001b[0m \u001b[0;34m=\u001b[0m \u001b[0;34m\"mohit\"\u001b[0m\u001b[0;34m\u001b[0m\u001b[0;34m\u001b[0m\u001b[0m\n\u001b[0m\u001b[1;32m      2\u001b[0m \u001b[0mtuple_cont\u001b[0m\u001b[0;34m\u001b[0m\u001b[0;34m\u001b[0m\u001b[0m\n",
            "\u001b[0;31mTypeError\u001b[0m: 'tuple' object does not support item assignment"
          ]
        }
      ]
    },
    {
      "cell_type": "markdown",
      "source": [
        "**Q6. Write a function to demonstrate the behavior of mutable and immutable arguments.**\n",
        "\n",
        "---\n",
        "\n",
        "\n"
      ],
      "metadata": {
        "id": "jjgv2yJrWdwq"
      }
    },
    {
      "cell_type": "code",
      "source": [
        "# Function to demonstrate immutable argument\n",
        "p = \"happy diwali\"\n",
        "p"
      ],
      "metadata": {
        "colab": {
          "base_uri": "https://localhost:8080/",
          "height": 35
        },
        "id": "99MP-HZoXlXM",
        "outputId": "15ee5d61-682a-4d6b-8207-fa512ddc7210"
      },
      "execution_count": null,
      "outputs": [
        {
          "output_type": "execute_result",
          "data": {
            "text/plain": [
              "'happy diwali'"
            ],
            "application/vnd.google.colaboratory.intrinsic+json": {
              "type": "string"
            }
          },
          "metadata": {},
          "execution_count": 29
        }
      ]
    },
    {
      "cell_type": "code",
      "source": [
        "p[8]\n"
      ],
      "metadata": {
        "colab": {
          "base_uri": "https://localhost:8080/",
          "height": 35
        },
        "id": "yVRr1TkTYc00",
        "outputId": "261a16be-da6f-4bea-8484-b5c737034614"
      },
      "execution_count": null,
      "outputs": [
        {
          "output_type": "execute_result",
          "data": {
            "text/plain": [
              "'w'"
            ],
            "application/vnd.google.colaboratory.intrinsic+json": {
              "type": "string"
            }
          },
          "metadata": {},
          "execution_count": 32
        }
      ]
    },
    {
      "cell_type": "code",
      "source": [
        "p[8] = \"vv\"\n",
        "p"
      ],
      "metadata": {
        "colab": {
          "base_uri": "https://localhost:8080/",
          "height": 158
        },
        "id": "mOFDBrY9Ylg0",
        "outputId": "e9a4b66c-0691-4618-cfc5-85067b180ddf"
      },
      "execution_count": null,
      "outputs": [
        {
          "output_type": "error",
          "ename": "TypeError",
          "evalue": "'str' object does not support item assignment",
          "traceback": [
            "\u001b[0;31m---------------------------------------------------------------------------\u001b[0m",
            "\u001b[0;31mTypeError\u001b[0m                                 Traceback (most recent call last)",
            "\u001b[0;32m/tmp/ipython-input-2153168011.py\u001b[0m in \u001b[0;36m<cell line: 0>\u001b[0;34m()\u001b[0m\n\u001b[0;32m----> 1\u001b[0;31m \u001b[0mp\u001b[0m\u001b[0;34m[\u001b[0m\u001b[0;36m8\u001b[0m\u001b[0;34m]\u001b[0m \u001b[0;34m=\u001b[0m \u001b[0;34m\"vv\"\u001b[0m\u001b[0;34m\u001b[0m\u001b[0;34m\u001b[0m\u001b[0m\n\u001b[0m\u001b[1;32m      2\u001b[0m \u001b[0mp\u001b[0m\u001b[0;34m\u001b[0m\u001b[0;34m\u001b[0m\u001b[0m\n",
            "\u001b[0;31mTypeError\u001b[0m: 'str' object does not support item assignment"
          ]
        }
      ]
    },
    {
      "cell_type": "code",
      "source": [
        "# Function to demonstrate mutable argument\n",
        "list_cont = [1,7+5,3,\"ajay\",6,7]\n",
        "list_cont"
      ],
      "metadata": {
        "colab": {
          "base_uri": "https://localhost:8080/"
        },
        "id": "jcO78OcvYshq",
        "outputId": "5f1e2fc9-0799-455e-a6d2-cec9b91cabaa"
      },
      "execution_count": null,
      "outputs": [
        {
          "output_type": "execute_result",
          "data": {
            "text/plain": [
              "[1, 12, 3, 'ajay', 6, 7]"
            ]
          },
          "metadata": {},
          "execution_count": 34
        }
      ]
    },
    {
      "cell_type": "code",
      "source": [
        "list_cont[3]"
      ],
      "metadata": {
        "colab": {
          "base_uri": "https://localhost:8080/",
          "height": 35
        },
        "id": "0PO9ri2aY0zu",
        "outputId": "baa5b351-bef8-4e96-93bb-c3d897cfc99d"
      },
      "execution_count": null,
      "outputs": [
        {
          "output_type": "execute_result",
          "data": {
            "text/plain": [
              "'ajay'"
            ],
            "application/vnd.google.colaboratory.intrinsic+json": {
              "type": "string"
            }
          },
          "metadata": {},
          "execution_count": 35
        }
      ]
    },
    {
      "cell_type": "code",
      "source": [
        "list_cont[3] = \"mohit goyal\"\n",
        "list_cont"
      ],
      "metadata": {
        "colab": {
          "base_uri": "https://localhost:8080/"
        },
        "id": "DPf_8Jz5Y5Cg",
        "outputId": "8e5b05d3-3d5e-4aa1-a524-fc4b5b012f4f"
      },
      "execution_count": null,
      "outputs": [
        {
          "output_type": "execute_result",
          "data": {
            "text/plain": [
              "[1, 12, 3, 'mohit goyal', 6, 7]"
            ]
          },
          "metadata": {},
          "execution_count": 36
        }
      ]
    },
    {
      "cell_type": "markdown",
      "source": [
        "**Q7. Write a program that performs basic arithmetic operations on two user-input numbers**"
      ],
      "metadata": {
        "id": "4CRYXLb-SN9G"
      }
    },
    {
      "cell_type": "markdown",
      "source": [
        "print (\"enter the value of A =  \")\n",
        "input_"
      ],
      "metadata": {
        "id": "lTENKFKYSS60"
      }
    },
    {
      "cell_type": "code",
      "source": [
        "input_name = input(\" enter your name\")\n",
        "input_age = input(\" enter your age\")"
      ],
      "metadata": {
        "id": "P4bKhb7pSweW"
      },
      "execution_count": null,
      "outputs": []
    },
    {
      "cell_type": "code",
      "source": [
        "print (\"enter the value of A = \")\n",
        "input_A = int(input())\n",
        "print (\"enter thw value of B =  \")\n",
        "input_B = int(input())\n",
        "print (\"TOTAL VALUE IS =  \")\n",
        "print (input_A + input_B)"
      ],
      "metadata": {
        "colab": {
          "base_uri": "https://localhost:8080/"
        },
        "id": "0rE8L6toSzZX",
        "outputId": "0fe1bef4-1eba-4bef-ab02-9407e10a79d5"
      },
      "execution_count": null,
      "outputs": [
        {
          "output_type": "stream",
          "name": "stdout",
          "text": [
            "enter the value of A = \n",
            "7\n",
            "enter thw value of B =  \n",
            "7\n",
            "TOTAL VALUE IS =  \n",
            "14\n"
          ]
        }
      ]
    },
    {
      "cell_type": "markdown",
      "source": [
        "**Q8. Write a program to demonstrate the use of logical operators.**"
      ],
      "metadata": {
        "id": "T9tipYBrT6HT"
      }
    },
    {
      "cell_type": "code",
      "source": [
        "x = 4\n",
        "y = 5\n",
        "print (x > 5 and y <5)\n",
        "print (x > 10 or y <5)\n",
        "print (not (x < 5))"
      ],
      "metadata": {
        "colab": {
          "base_uri": "https://localhost:8080/"
        },
        "id": "2zcEO7ltXfon",
        "outputId": "bae9ed40-fdc2-44f9-bf8b-c93816cdde3a"
      },
      "execution_count": null,
      "outputs": [
        {
          "output_type": "stream",
          "name": "stdout",
          "text": [
            "False\n",
            "False\n",
            "False\n"
          ]
        }
      ]
    },
    {
      "cell_type": "markdown",
      "source": [
        "**Q9. Write a Python program to convert user input from string to integer, float, and boolean types.**"
      ],
      "metadata": {
        "id": "StLdwGYkYi74"
      }
    },
    {
      "cell_type": "code",
      "source": [
        "user_input = input(\"enter a value: \")"
      ],
      "metadata": {
        "colab": {
          "base_uri": "https://localhost:8080/"
        },
        "id": "7h8w1zBLJrgc",
        "outputId": "1cd1e6c4-c98f-4e7a-9c72-20c11a795f07"
      },
      "execution_count": 1,
      "outputs": [
        {
          "name": "stdout",
          "output_type": "stream",
          "text": [
            "enter a value: 56\n"
          ]
        }
      ]
    },
    {
      "cell_type": "code",
      "source": [
        "type(user_input)"
      ],
      "metadata": {
        "colab": {
          "base_uri": "https://localhost:8080/"
        },
        "id": "N4o_xtZpKf7_",
        "outputId": "025ff708-8597-49fa-d29f-28112b1db543"
      },
      "execution_count": 2,
      "outputs": [
        {
          "output_type": "execute_result",
          "data": {
            "text/plain": [
              "str"
            ]
          },
          "metadata": {},
          "execution_count": 2
        }
      ]
    },
    {
      "cell_type": "code",
      "source": [
        "#converting to interger\n",
        "\n",
        "int_value = int(user_input)\n",
        "print(\"integer value:  \")\n",
        "print(int_value)"
      ],
      "metadata": {
        "colab": {
          "base_uri": "https://localhost:8080/"
        },
        "id": "RMPGkAxiKmLe",
        "outputId": "efd16082-5f58-4f7d-b96d-aa16474ea7c9"
      },
      "execution_count": 3,
      "outputs": [
        {
          "output_type": "stream",
          "name": "stdout",
          "text": [
            "integer value:  \n",
            "56\n"
          ]
        }
      ]
    },
    {
      "cell_type": "code",
      "source": [
        "type(int_value)"
      ],
      "metadata": {
        "colab": {
          "base_uri": "https://localhost:8080/"
        },
        "id": "PgINPtltK8Y-",
        "outputId": "30f4d8e4-2681-4af0-885a-9354b11ce229"
      },
      "execution_count": 4,
      "outputs": [
        {
          "output_type": "execute_result",
          "data": {
            "text/plain": [
              "int"
            ]
          },
          "metadata": {},
          "execution_count": 4
        }
      ]
    },
    {
      "cell_type": "code",
      "source": [
        "#converting to float\n",
        "\n",
        "float_value = float(user_input)\n",
        "print(\"float_value:  \")\n",
        "print(float_value)"
      ],
      "metadata": {
        "colab": {
          "base_uri": "https://localhost:8080/"
        },
        "id": "sfoGKoaMLB48",
        "outputId": "9b4c5d3d-f6ec-44c1-9649-781769f02f9b"
      },
      "execution_count": 5,
      "outputs": [
        {
          "output_type": "stream",
          "name": "stdout",
          "text": [
            "float_value:  \n",
            "56.0\n"
          ]
        }
      ]
    },
    {
      "cell_type": "code",
      "source": [
        "#converting to boolean\n",
        "\n",
        "if user_input.lower() in [\"false\", \"0\" , \"no\", \" \"]:\n",
        "  bool_value = False\n",
        "else:\n",
        "  bool_value = True\n",
        "print (\"Boolean value: \", bool_value)"
      ],
      "metadata": {
        "colab": {
          "base_uri": "https://localhost:8080/"
        },
        "id": "x8xwpqGGLged",
        "outputId": "b5df28d6-434c-4874-fbde-4d16d74e84b0"
      },
      "execution_count": 7,
      "outputs": [
        {
          "output_type": "stream",
          "name": "stdout",
          "text": [
            "Boolean value:  True\n"
          ]
        }
      ]
    },
    {
      "cell_type": "markdown",
      "source": [
        "**Q10. Write code to demonstrate type casting with list elements.**"
      ],
      "metadata": {
        "id": "EHEPsx5McHC7"
      }
    },
    {
      "cell_type": "code",
      "source": [
        "# List with string numbers\n",
        "\n",
        "string_list = [\"1\" , \"2\" , \"34\" , \"89\"]\n",
        "print (\"List of string - \")\n",
        "print (string_list)"
      ],
      "metadata": {
        "colab": {
          "base_uri": "https://localhost:8080/"
        },
        "id": "lmToFASScL86",
        "outputId": "9cb0324d-0773-4958-8639-41536d722f51"
      },
      "execution_count": null,
      "outputs": [
        {
          "output_type": "stream",
          "name": "stdout",
          "text": [
            "List of string - \n",
            "['1', '2', '34', '89']\n"
          ]
        }
      ]
    },
    {
      "cell_type": "code",
      "source": [
        "#Convert each string to integer\n",
        "\n",
        "int_list = [int(x) for x in string_list]\n",
        "print(\"List after type casting to integers:\" , int_list)"
      ],
      "metadata": {
        "colab": {
          "base_uri": "https://localhost:8080/"
        },
        "id": "OEl4xkagegTe",
        "outputId": "3ccdc3d1-b2b2-440e-ab33-346279009c79"
      },
      "execution_count": null,
      "outputs": [
        {
          "output_type": "stream",
          "name": "stdout",
          "text": [
            "List after type casting to integers: [1, 2, 34, 89]\n"
          ]
        }
      ]
    },
    {
      "cell_type": "code",
      "source": [
        "# Convert integers to float\n",
        "\n",
        "float_list = [float(x) for x in int_list]\n",
        "print(\"List after type casting to floats:\", float_list)"
      ],
      "metadata": {
        "colab": {
          "base_uri": "https://localhost:8080/"
        },
        "id": "IlKf7BZ0fZ53",
        "outputId": "8245facc-f79a-46a3-a2f8-8a130623adb5"
      },
      "execution_count": null,
      "outputs": [
        {
          "output_type": "stream",
          "name": "stdout",
          "text": [
            "List after type casting to floats: [1.0, 2.0, 34.0, 89.0]\n"
          ]
        }
      ]
    },
    {
      "cell_type": "code",
      "source": [
        "# Convert integers to string again\n",
        "\n",
        "new_str_list = [str(x) for x in int_list]\n",
        "print(\"List after type casting back to strings:\", new_str_list)"
      ],
      "metadata": {
        "colab": {
          "base_uri": "https://localhost:8080/"
        },
        "id": "pkmma9ZPfjL-",
        "outputId": "0f792345-69a5-4418-cc7a-276f444fe8df"
      },
      "execution_count": null,
      "outputs": [
        {
          "output_type": "stream",
          "name": "stdout",
          "text": [
            "List after type casting back to strings: ['1', '2', '34', '89']\n"
          ]
        }
      ]
    },
    {
      "cell_type": "markdown",
      "source": [
        "**Q11. Write a program that checks if a number is positive, negative, or zero.**"
      ],
      "metadata": {
        "id": "xQDXLIX7frc_"
      }
    },
    {
      "cell_type": "code",
      "source": [
        "# Program to check if a number is positive, negative, or zero\n",
        "\n",
        "# Input from user\n",
        "num = int(input(\"Enter a number: \"))\n",
        "\n",
        "# Conditional statements\n",
        "if num > 0:\n",
        "    print(\"The number is Positive.\")\n",
        "elif num < 0:\n",
        "    print(\"The number is Negative.\")\n",
        "else:\n",
        "    print(\"The number is Zero.\")"
      ],
      "metadata": {
        "colab": {
          "base_uri": "https://localhost:8080/"
        },
        "id": "PHGvQtarfvS7",
        "outputId": "ed95748b-9913-4a60-bd49-fa7ab6d33546"
      },
      "execution_count": null,
      "outputs": [
        {
          "output_type": "stream",
          "name": "stdout",
          "text": [
            "Enter a number: -3\n",
            "The number is Negative.\n"
          ]
        }
      ]
    },
    {
      "cell_type": "markdown",
      "source": [
        "**Q12. Write a for loop to print numbers from 1 to 10.**"
      ],
      "metadata": {
        "id": "A42K3ox7gYm0"
      }
    },
    {
      "cell_type": "code",
      "source": [
        "for i in range(1, 11):\n",
        "    print(i)\n"
      ],
      "metadata": {
        "colab": {
          "base_uri": "https://localhost:8080/"
        },
        "id": "CitBtL8QgdTZ",
        "outputId": "941f9ccd-4170-4d1f-fe87-e61b54762794"
      },
      "execution_count": null,
      "outputs": [
        {
          "output_type": "stream",
          "name": "stdout",
          "text": [
            "1\n",
            "2\n",
            "3\n",
            "4\n",
            "5\n",
            "6\n",
            "7\n",
            "8\n",
            "9\n",
            "10\n"
          ]
        }
      ]
    },
    {
      "cell_type": "markdown",
      "source": [
        "**Q13. Write a Python program to find the sum of all even numbers between 1 and 50**"
      ],
      "metadata": {
        "id": "ayPOdCVNgyOn"
      }
    },
    {
      "cell_type": "code",
      "source": [
        "# Program to find the sum of all even numbers between 1 and 50\n",
        "\n",
        "total = 0\n",
        "\n",
        "for i in range(1, 51):\n",
        "    if i % 2 == 0:   # check even number\n",
        "        total += i\n",
        "\n",
        "print(\"Sum of even numbers from 1 to 50 is:\", total)"
      ],
      "metadata": {
        "colab": {
          "base_uri": "https://localhost:8080/"
        },
        "id": "U-NnZeKIg2P8",
        "outputId": "cf6c6b63-9ccf-4968-93b5-74c12f87ad65"
      },
      "execution_count": null,
      "outputs": [
        {
          "output_type": "stream",
          "name": "stdout",
          "text": [
            "Sum of even numbers from 1 to 50 is: 650\n"
          ]
        }
      ]
    },
    {
      "cell_type": "markdown",
      "source": [
        "**Q14. Write a program to reverse a string using a while loop.**"
      ],
      "metadata": {
        "id": "IYb8Xnk6hKjr"
      }
    },
    {
      "cell_type": "code",
      "source": [
        "# Input from user\n",
        "text = input(\"Enter a string: \")\n",
        "\n",
        "# Initialize variables\n",
        "reversed_text = \"\"\n",
        "i = len(text) - 1\n",
        "\n",
        "# While loop to reverse the string\n",
        "while i >= 0:\n",
        "    reversed_text += text[i]\n",
        "    i -= 1\n",
        "\n",
        "print(\"Reversed string:\", reversed_text)"
      ],
      "metadata": {
        "colab": {
          "base_uri": "https://localhost:8080/"
        },
        "id": "H3Cmjzx3hRMD",
        "outputId": "accbccc2-762e-4bd7-cb07-e1c0f4b5cab8"
      },
      "execution_count": null,
      "outputs": [
        {
          "output_type": "stream",
          "name": "stdout",
          "text": [
            "Enter a string: pwskills\n",
            "Reversed string: sllikswp\n"
          ]
        }
      ]
    },
    {
      "cell_type": "markdown",
      "source": [
        "**Q15. Write a Python program to calculate the factorial of a number provided by the user using a while loop.**"
      ],
      "metadata": {
        "id": "67KoQcBDiR9x"
      }
    },
    {
      "cell_type": "code",
      "source": [
        "# Input from user\n",
        "num = int(input(\"Enter a number: \"))\n",
        "\n",
        "factorial = 1\n",
        "i = 1\n",
        "\n",
        "# While loop to calculate factorial\n",
        "while i <= num:\n",
        "    factorial *= i\n",
        "    i += 1\n",
        "\n",
        "print(\"Factorial of\", num, \"is:\", factorial)"
      ],
      "metadata": {
        "colab": {
          "base_uri": "https://localhost:8080/"
        },
        "id": "cVxwvLvWiWpe",
        "outputId": "e4b0050c-75e0-4951-c112-4ecb420ba0dd"
      },
      "execution_count": null,
      "outputs": [
        {
          "output_type": "stream",
          "name": "stdout",
          "text": [
            "Enter a number: 4\n",
            "Factorial of 4 is: 24\n"
          ]
        }
      ]
    }
  ]
}